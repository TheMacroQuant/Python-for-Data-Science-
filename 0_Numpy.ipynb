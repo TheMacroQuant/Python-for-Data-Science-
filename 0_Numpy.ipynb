{
 "cells": [
  {
   "cell_type": "markdown",
   "id": "2c5cdfd5-c0e7-43e1-a201-9c9abbe8a1a7",
   "metadata": {},
   "source": [
    "# Numpy"
   ]
  },
  {
   "cell_type": "markdown",
   "id": "1582bb80-8ecd-4b6f-8baf-fa200b955016",
   "metadata": {},
   "source": [
    "### NumPy, or the Numeric Python library, is useful for working with arrays, which are data structures that store values of the same data type. \n",
    "### NumPy arrays are similar to Python lists except that they require less memory and are usually faster because they use optimized, precompiled C code"
   ]
  },
  {
   "cell_type": "code",
   "execution_count": 14,
   "id": "ec8edadf-3d6c-49e1-9dd9-f877d9cf37dd",
   "metadata": {},
   "outputs": [
    {
     "name": "stdout",
     "output_type": "stream",
     "text": [
      "[[2700 3000 3000]\n",
      " [2600 2800 2800]\n",
      " [2300 2500 2500]]\n"
     ]
    }
   ],
   "source": [
    " import numpy as np\n",
    "jeff_salary = [2700,3000,3000]\n",
    "nick_salary = [2600,2800,2800]\n",
    "tom_salary = [2300,2500,2500]\n",
    "base_salary = np.array([jeff_salary, nick_salary,tom_salary])\n",
    "print(base_salary)"
   ]
  },
  {
   "cell_type": "markdown",
   "id": "ffe0af92-ccd2-455d-9616-f582a07379cc",
   "metadata": {},
   "source": [
    "### This is a 2D array. It has two axes, which are indexed by integers,starting with 0. Axis 0 runs vertically downward across the array’s rows, while axis 1 runs horizontally across the columns."
   ]
  },
  {
   "cell_type": "markdown",
   "id": "017a6b30-717c-41c4-a64d-9e0d85a30f4c",
   "metadata": {},
   "source": [
    "### You can follow the same process to create an array containing the employees’ monthly bonuses:"
   ]
  },
  {
   "cell_type": "code",
   "execution_count": 18,
   "id": "3d0c6db3-8c7f-4724-b918-0f82acca9d84",
   "metadata": {},
   "outputs": [],
   "source": [
    "jeff_bonus = [500,400,400]\n",
    "nick_bonus = [600,300,400]\n",
    "tom_bonus = [200,500,400]\n",
    "bonus = np.array([jeff_bonus, nick_bonus, tom_bonus])"
   ]
  },
  {
   "cell_type": "markdown",
   "id": "04da2016-0ed6-40ed-890a-75875b7db783",
   "metadata": {},
   "source": [
    "# Performing Element-Wise Operations"
   ]
  },
  {
   "cell_type": "markdown",
   "id": "2b55f660-415e-4deb-9a2d-ce92ff8d09b3",
   "metadata": {},
   "source": [
    "### It’s easy to perform element-wise operations on multiple NumPy arrays of the same dimensions. For example, you can add the base_salary and bonus arrays together to determine the total amount paid each month to each employee:"
   ]
  },
  {
   "cell_type": "code",
   "execution_count": 23,
   "id": "e97df598-dc2f-4dab-aee9-7a9c930b574d",
   "metadata": {},
   "outputs": [
    {
     "name": "stdout",
     "output_type": "stream",
     "text": [
      "<class 'numpy.ndarray'>\n",
      "[[3200 3400 3400]\n",
      " [3200 3100 3200]\n",
      " [2500 3000 2900]]\n"
     ]
    }
   ],
   "source": [
    "salary_bonus = base_salary + bonus\n",
    "print(type(salary_bonus))\n",
    "print(salary_bonus)"
   ]
  },
  {
   "cell_type": "markdown",
   "id": "734d114c-a9bd-4aad-b8ed-f09292636c17",
   "metadata": {},
   "source": [
    "### As you can see, the addition operation is a one-liner. The resulting dataset is a NumPy array too, in which each element is the sum of the corresponding elements in the base_salary and bonus array"
   ]
  },
  {
   "cell_type": "markdown",
   "id": "42502d10-75fd-42d7-a285-6c4f54235266",
   "metadata": {},
   "source": [
    "# Using NumPy Statistical Functions"
   ]
  },
  {
   "cell_type": "markdown",
   "id": "e2c49f19-be49-45df-a2e3-7f1490ca9475",
   "metadata": {},
   "source": [
    "### NumPy’s statistical functions allow you to analyze the contents of an array. For example, you can find the maximum value of an entire array or the maximum value of an array along a given axis. \n",
    "\n",
    "### Let’s say you want to find the maximum value in the salary_bonus array you created in the previous section. You can do this with the NumPy array’s max( ) function:"
   ]
  },
  {
   "cell_type": "code",
   "execution_count": 37,
   "id": "f149a810-e94e-4e02-afec-cf957f015d9a",
   "metadata": {},
   "outputs": [
    {
     "name": "stdout",
     "output_type": "stream",
     "text": [
      "3400\n"
     ]
    }
   ],
   "source": [
    "print(salary_bonus.max())"
   ]
  },
  {
   "cell_type": "markdown",
   "id": "838a6397-fce5-4c35-8ae1-7f4234b6149f",
   "metadata": {},
   "source": [
    "### NumPy can also find the maximum value of an array along a given axis. If you want to determine the maximum amount paid to each employee in the past three months, you can use NumPy’s amax( ) function, as shown here:"
   ]
  },
  {
   "cell_type": "code",
   "execution_count": 41,
   "id": "eb5b86c8-66bb-4180-a1f9-851d4ab91da1",
   "metadata": {},
   "outputs": [
    {
     "name": "stdout",
     "output_type": "stream",
     "text": [
      "[3400 3200 3000]\n"
     ]
    }
   ],
   "source": [
    "print(np.amax(salary_bonus, axis = 1))"
   ]
  },
  {
   "cell_type": "markdown",
   "id": "8e02a193-c678-4515-9214-d6bc246cb7ab",
   "metadata": {},
   "source": [
    "### By specifying axis = 1, you instruct amax( ) to search horizontally across the columns for a maximum in the salary_bonus array, thus applying the function across each row. This calculates the maximum monthly amount paid to each employee in the past three months:"
   ]
  },
  {
   "cell_type": "code",
   "execution_count": null,
   "id": "b6536814-c199-45ab-88fd-656812fff08e",
   "metadata": {},
   "outputs": [],
   "source": []
  }
 ],
 "metadata": {
  "kernelspec": {
   "display_name": "Python (my-quant-stack)",
   "language": "python",
   "name": "my-quant-stack"
  },
  "language_info": {
   "codemirror_mode": {
    "name": "ipython",
    "version": 3
   },
   "file_extension": ".py",
   "mimetype": "text/x-python",
   "name": "python",
   "nbconvert_exporter": "python",
   "pygments_lexer": "ipython3",
   "version": "3.10.14"
  }
 },
 "nbformat": 4,
 "nbformat_minor": 5
}
