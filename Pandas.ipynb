{
 "cells": [
  {
   "cell_type": "markdown",
   "id": "36da89ad-0180-41ef-9f0b-7d256e5ac325",
   "metadata": {},
   "source": [
    "# Pandas"
   ]
  },
  {
   "cell_type": "markdown",
   "id": "e652cf9e-7ff4-416a-8ee7-1b69d7f7f9b9",
   "metadata": {},
   "source": [
    "### The pandas library is the de facto standard for data-oriented Python applications. \n",
    "\n",
    "### The library includes two data structures: the Series, which is 1D, and the DataFrame, which is 2D. While the DataFrame is the primary pandas data structure, a DataFrame is actually a collection of Series objects."
   ]
  },
  {
   "cell_type": "markdown",
   "id": "f80c7ada-c4ba-44ac-9de2-fabe3e424538",
   "metadata": {},
   "source": [
    "# Creating a Series\n",
    "### Here’s how you create a Series from a Python list:"
   ]
  },
  {
   "cell_type": "code",
   "execution_count": 5,
   "id": "43e24962-345a-4484-86c1-f207eecea6b7",
   "metadata": {},
   "outputs": [
    {
     "name": "stdout",
     "output_type": "stream",
     "text": [
      "0    Jeff Russell\n",
      "1    Jane Boorman\n",
      "2      Tom Heints\n",
      "dtype: object\n"
     ]
    }
   ],
   "source": [
    "import pandas as pd\n",
    "data = ['Jeff Russell','Jane Boorman','Tom Heints']\n",
    "emps_names = pd.Series(data)\n",
    "print(emps_names)"
   ]
  },
  {
   "cell_type": "markdown",
   "id": "1b90b7c1-1cba-4745-a317-4ebf6264e1c6",
   "metadata": {},
   "source": [
    "### The dtype attribute indicates the type of the underlying data for the given Series. By default, pandas uses the data type object to store strings.\n",
    "\n",
    "#### Common Pandas dtypes:\n",
    "#### 1. int64: For integer numbers.\n",
    "#### 2. float64: For floating-point numbers (decimals).\n",
    "#### 3. object: For text/string data or mixed types."
   ]
  },
  {
   "cell_type": "markdown",
   "id": "3a48dfcd-b945-47b1-8059-6e31b93bc48e",
   "metadata": {},
   "source": [
    "### You can create a Series with user-defined indices as follows:"
   ]
  },
  {
   "cell_type": "code",
   "execution_count": 17,
   "id": "72167c6c-be64-415b-95d3-f9130da42416",
   "metadata": {},
   "outputs": [
    {
     "name": "stdout",
     "output_type": "stream",
     "text": [
      "9001    Jeff Russell\n",
      "9002    Jane Boorman\n",
      "9003      Tom Heints\n",
      "dtype: object\n"
     ]
    }
   ],
   "source": [
    "data = ['Jeff Russell','Jane Boorman','Tom Heints']\n",
    "emps_names = pd.Series(data,index=[9001,9002,9003])\n",
    "print(emps_names)"
   ]
  },
  {
   "cell_type": "code",
   "execution_count": 25,
   "id": "d61047f9-ef8d-4a79-a1eb-371c2bdf99b8",
   "metadata": {},
   "outputs": [
    {
     "name": "stdout",
     "output_type": "stream",
     "text": [
      "<class 'pandas.core.series.Series'>\n"
     ]
    }
   ],
   "source": [
    "print(type(emps_names))"
   ]
  },
  {
   "cell_type": "markdown",
   "id": "34eafabe-95ec-47f9-b7c5-766aa95cd662",
   "metadata": {},
   "source": [
    "### Accessing Data in a Series\n",
    "#### To access an item in a Series, specify the Series name followed by the element’s index within square brackets, as shown here:"
   ]
  },
  {
   "cell_type": "code",
   "execution_count": 40,
   "id": "040ea8e4-1e51-4ed5-b461-9d55753dc972",
   "metadata": {},
   "outputs": [
    {
     "name": "stdout",
     "output_type": "stream",
     "text": [
      "Jeff Russell\n"
     ]
    }
   ],
   "source": [
    "print(emps_names[9001])"
   ]
  },
  {
   "cell_type": "markdown",
   "id": "3e68d75e-4fad-46fb-aee9-76fb9d046cf9",
   "metadata": {},
   "source": [
    "### Alternatively, you can use the .loc property of the Series object: \n",
    "\n",
    "### You can access multiple elements by their indices with a slice operation, as discussed in Chapter 2:"
   ]
  },
  {
   "cell_type": "code",
   "execution_count": 46,
   "id": "eaededb0-faa1-406f-86c1-bbf22c9374cf",
   "metadata": {},
   "outputs": [
    {
     "name": "stdout",
     "output_type": "stream",
     "text": [
      "Jeff Russell\n"
     ]
    }
   ],
   "source": [
    "print(emps_names.loc[9001])"
   ]
  },
  {
   "cell_type": "code",
   "execution_count": 48,
   "id": "93565b48-b926-4317-a5ec-f7a657640153",
   "metadata": {},
   "outputs": [
    {
     "name": "stdout",
     "output_type": "stream",
     "text": [
      "9001    Jeff Russell\n",
      "9002    Jane Boorman\n",
      "9003      Tom Heints\n",
      "dtype: object\n"
     ]
    }
   ],
   "source": [
    "print(emps_names.loc[9001:9003])"
   ]
  },
  {
   "cell_type": "code",
   "execution_count": 52,
   "id": "6fa5e0ab-58ec-4070-b38c-f8e22ff69bf2",
   "metadata": {},
   "outputs": [
    {
     "name": "stdout",
     "output_type": "stream",
     "text": [
      "9001    Jeff Russell\n",
      "9002    Jane Boorman\n",
      "9003      Tom Heints\n",
      "dtype: object\n"
     ]
    }
   ],
   "source": [
    "print(emps_names[0:3])"
   ]
  },
  {
   "cell_type": "markdown",
   "id": "641c85c0-01cb-4a1a-aec0-7c2041e7b5ac",
   "metadata": {},
   "source": [
    "## Combining Series into a DataFrame"
   ]
  },
  {
   "cell_type": "markdown",
   "id": "d4f7675c-7e0f-4898-8612-9a6ff312a6bb",
   "metadata": {},
   "source": [
    "### Multiple Series can be combined to form a DataFrame. Let’s try this by creating another Series and combining it with the emps_names Series:"
   ]
  },
  {
   "cell_type": "code",
   "execution_count": 98,
   "id": "50de2e26-75e9-4b0e-9e61-2a99e4b843b7",
   "metadata": {},
   "outputs": [
    {
     "name": "stdout",
     "output_type": "stream",
     "text": [
      "             names        emails\n",
      "9001  Jeff Russell  jeff.russell\n",
      "9002  Jane Boorman  jane.boorman\n",
      "9003    Tom Heints    tom.heints\n"
     ]
    }
   ],
   "source": [
    "# Create New Tuple list\n",
    "data = ['jeff.russell','jane.boorman','tom.heints']\n",
    "\n",
    "# Convert Tuple itno Pandas Series + Name Series\n",
    "emps_emails = pd.Series(data,index=[9001,9002,9003], name =\n",
    "'emails')\n",
    "\n",
    "# Name The Series Before concatenating\n",
    "emps_names.name = 'names'\n",
    "\n",
    "# Specify axis=1 to concat along the colums\n",
    "df = pd.concat([emps_names,emps_emails], axis=1)\n",
    "print(df)"
   ]
  },
  {
   "cell_type": "markdown",
   "id": "e1214e9b-61c2-4454-bc0d-359c7e5f6b73",
   "metadata": {},
   "source": [
    "### Note: \n",
    "\n",
    "### axis=0 stacks vertically (rows) and requires matching columns; if used incorrectly, concat will either fail with a shape mismatch or just append values in one long column. \n",
    "\n",
    "### Use axis=1 to align side by side (columns)."
   ]
  },
  {
   "cell_type": "markdown",
   "id": "c905470d-0f8a-413c-9dc5-1194b4029101",
   "metadata": {},
   "source": [
    "### # Example of What Miss using axis"
   ]
  },
  {
   "cell_type": "code",
   "execution_count": 92,
   "id": "148c858c-bbe8-4bda-a480-d5ae0bb01f12",
   "metadata": {},
   "outputs": [
    {
     "name": "stdout",
     "output_type": "stream",
     "text": [
      "9001    Jeff Russell\n",
      "9002    Jane Boorman\n",
      "9003      Tom Heints\n",
      "9001    jeff.russell\n",
      "9002    jane.boorman\n",
      "9003      tom.heints\n",
      "dtype: object\n"
     ]
    }
   ],
   "source": [
    "df = pd.concat([emps_names,emps_emails], axis=0)\n",
    "print(df)\n"
   ]
  },
  {
   "cell_type": "markdown",
   "id": "8c85223d-f7c9-4b20-9c94-8dd272a8d7f6",
   "metadata": {},
   "source": [
    "# EXERCISE #3: COMBINING THREE SERIES"
   ]
  },
  {
   "cell_type": "code",
   "execution_count": 133,
   "id": "719663d3-ebcc-42f8-8f24-a6f0e245793a",
   "metadata": {},
   "outputs": [
    {
     "name": "stdout",
     "output_type": "stream",
     "text": [
      "             names        emails      phones\n",
      "9001  Jeff Russell  jeff.russell  2517531364\n",
      "9002  Jane Boorman  jane.boorman  2516484611\n",
      "9003    Tom Heints    tom.heints  2513826112\n"
     ]
    }
   ],
   "source": [
    "# Create New List\n",
    "emps_phones = [2517531364, 2516484611, 2513826112]\n",
    "\n",
    "# Convert List To Pandas Series \n",
    "emps_phones = pd.Series(emps_phones,index=[9001,9002,9003], name =\n",
    "'phones')\n",
    "\n",
    "df = pd.concat([emps_names,emps_emails,emps_phones], axis=1)\n",
    "print(df)"
   ]
  },
  {
   "cell_type": "code",
   "execution_count": null,
   "id": "6afef3e8-7cea-4abf-bf69-34e96458f2ad",
   "metadata": {},
   "outputs": [],
   "source": []
  }
 ],
 "metadata": {
  "kernelspec": {
   "display_name": "Python (my-quant-stack)",
   "language": "python",
   "name": "my-quant-stack"
  },
  "language_info": {
   "codemirror_mode": {
    "name": "ipython",
    "version": 3
   },
   "file_extension": ".py",
   "mimetype": "text/x-python",
   "name": "python",
   "nbconvert_exporter": "python",
   "pygments_lexer": "ipython3",
   "version": "3.10.14"
  }
 },
 "nbformat": 4,
 "nbformat_minor": 5
}
