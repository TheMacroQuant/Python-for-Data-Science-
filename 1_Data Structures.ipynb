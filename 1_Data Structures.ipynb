{
 "cells": [
  {
   "cell_type": "markdown",
   "id": "9b87e0d6-9690-48bd-82a8-528a035cb769",
   "metadata": {},
   "source": [
    "### Tuples In Python"
   ]
  },
  {
   "cell_type": "markdown",
   "id": "b6f2504c-328e-411f-8fb2-d8fde5e33870",
   "metadata": {},
   "source": [
    "#### A Tuple is an ordered and immutable collection of Items.\n",
    "#### Unlike Lists, however tuples are Unchangable. once a tuple is created, it cannot be changed."
   ]
  },
  {
   "cell_type": "code",
   "execution_count": 12,
   "id": "f1dfb848-29b8-4008-abcb-0307d176a618",
   "metadata": {},
   "outputs": [],
   "source": [
    "# A tuple with multiple elements of different data types\n",
    "my_tuple = (1, \"hello\", True, 3.14)"
   ]
  },
  {
   "cell_type": "code",
   "execution_count": 22,
   "id": "371acbe1-6a4f-442a-aafb-25225a04c54c",
   "metadata": {},
   "outputs": [],
   "source": [
    "task_list = ['Pay bills', 'Tidy up', 'Walk the dog','Go to the pharmacy', 'Cook dinner']\n",
    "tm_list = ['8:00', '8:30', '9:30', '10:00', '10:30']"
   ]
  },
  {
   "cell_type": "markdown",
   "id": "e1be81bd-ee53-45e4-9407-e72c91a7e02a",
   "metadata": {},
   "source": [
    "#### Combining Two Corresponding lists with List Comprehension"
   ]
  },
  {
   "cell_type": "code",
   "execution_count": 24,
   "id": "22b91336-b833-4625-927e-d5ecb2ca747d",
   "metadata": {},
   "outputs": [],
   "source": [
    "scheduled_list = [(tm, task) for tm, task in zip(time_list,task_list)]"
   ]
  },
  {
   "cell_type": "code",
   "execution_count": 26,
   "id": "11ea15ba-a66b-433f-bc30-e0b36a56d969",
   "metadata": {},
   "outputs": [
    {
     "name": "stdout",
     "output_type": "stream",
     "text": [
      "8:30\n"
     ]
    }
   ],
   "source": [
    "print(scheduled_list[1][0])"
   ]
  },
  {
   "cell_type": "markdown",
   "id": "5df04023-667d-40f6-abca-95306704b45c",
   "metadata": {},
   "source": [
    "### Immutability"
   ]
  },
  {
   "cell_type": "markdown",
   "id": "1b50b3e1-6c21-4c42-a8bc-674ebf860dbd",
   "metadata": {},
   "source": [
    "#### An important thing to remember about tuples is that hteyre immutable that is,you cant modify them. for example, if you try to chnage the start time for one of your chores:"
   ]
  },
  {
   "cell_type": "code",
   "execution_count": 30,
   "id": "ec2739e8-8e43-4ec9-bd49-fff866ab5504",
   "metadata": {},
   "outputs": [
    {
     "ename": "TypeError",
     "evalue": "'tuple' object does not support item assignment",
     "output_type": "error",
     "traceback": [
      "\u001b[0;31m---------------------------------------------------------------------------\u001b[0m",
      "\u001b[0;31mTypeError\u001b[0m                                 Traceback (most recent call last)",
      "Cell \u001b[0;32mIn[30], line 1\u001b[0m\n\u001b[0;32m----> 1\u001b[0m scheduled_list[\u001b[38;5;241m1\u001b[39m][\u001b[38;5;241m0\u001b[39m] \u001b[38;5;241m=\u001b[39m \u001b[38;5;124m'\u001b[39m\u001b[38;5;124m9:30\u001b[39m\u001b[38;5;124m'\u001b[39m\n",
      "\u001b[0;31mTypeError\u001b[0m: 'tuple' object does not support item assignment"
     ]
    }
   ],
   "source": [
    "scheduled_list[1][0] = '9:30'"
   ]
  },
  {
   "cell_type": "markdown",
   "id": "c677cfa6-bc3e-43af-9397-e1f40bd085ff",
   "metadata": {},
   "source": [
    "#### Because they're not immutable, tuples are not suitable for holding data values that need to be updated periodically."
   ]
  },
  {
   "cell_type": "markdown",
   "id": "f6c69cb4-f907-4f10-870c-1d65a971b626",
   "metadata": {},
   "source": [
    "### A List of Dictionaries"
   ]
  },
  {
   "cell_type": "markdown",
   "id": "aa21e2e1-c131-4d27-b890-da1d02608265",
   "metadata": {},
   "source": [
    "#### Like Other data structures dictionaries can be nested inside other structutures your to-do list, when implemented as a list of dictionaries, might look like this"
   ]
  },
  {
   "cell_type": "code",
   "execution_count": 38,
   "id": "e1b49625-e84b-4200-9d5e-6f8c0c655969",
   "metadata": {},
   "outputs": [],
   "source": [
    "dict_list = [\n",
    "    {'time': '8:00', 'name': 'Pay bills'},\n",
    "    {'time': '8:30', 'name': 'Tidy up'},\n",
    "    {'time': '9:30', 'name': 'Walk the dog'},\n",
    "    {'time': '10:00', 'name': 'Go to the pharmacy'},\n",
    "    {'time': '10:30', 'name': 'Cook dinner'}\n",
    "]"
   ]
  },
  {
   "cell_type": "markdown",
   "id": "9db0e07a-cb7f-462d-b263-7c154c939a95",
   "metadata": {},
   "source": [
    "#### Unlike tuples dictionaries are mutable, which means that you can easily change the value in a key value pair:"
   ]
  },
  {
   "cell_type": "code",
   "execution_count": 54,
   "id": "99ae3cad-98f3-4557-8da6-9f9dc80d49ea",
   "metadata": {},
   "outputs": [],
   "source": [
    "dict_list[1]['time'] = '9:00'"
   ]
  },
  {
   "cell_type": "code",
   "execution_count": 56,
   "id": "78242288-a42a-4c8e-a838-f558b50389b6",
   "metadata": {},
   "outputs": [
    {
     "data": {
      "text/plain": [
       "[{'time': '8:00', 'name': 'Pay bills'},\n",
       " {'time': '9:00', 'name': 'Tidy up'},\n",
       " {'time': '9:30', 'name': 'Walk the dog'},\n",
       " {'time': '10:00', 'name': 'Go to the pharmacy'},\n",
       " {'time': '10:30', 'name': 'Cook dinner'}]"
      ]
     },
     "execution_count": 56,
     "metadata": {},
     "output_type": "execute_result"
    }
   ],
   "source": [
    "dict_list"
   ]
  },
  {
   "cell_type": "markdown",
   "id": "e80d267e-62dd-48d3-8395-3f842dc06715",
   "metadata": {
    "jp-MarkdownHeadingCollapsed": true
   },
   "source": [
    "### This excample also illustrates how to acess values in a dictionary: unlike with lists and tuples, you us ekey names rather than numeric indices."
   ]
  },
  {
   "cell_type": "markdown",
   "id": "c681dce5-6665-4b22-a666-9d771930bb26",
   "metadata": {},
   "source": [
    "### Adding a Dictionary with a setdefault( )\n",
    "### Now try adding a new model key with a value of passat using setdefault( )\n",
    "#### This produces the following output, showing that the value of the model key has remained the same:"
   ]
  },
  {
   "cell_type": "code",
   "execution_count": 61,
   "id": "6808f88e-f4b5-44da-a1d9-ab584f0bb321",
   "metadata": {},
   "outputs": [],
   "source": [
    "# Example\n",
    "car = {\n",
    "    \"brand\": \"Volkswagen\",\n",
    "    \"Style\": \"Sedan\",\n",
    "    \"model\": \"jetta\"\n",
    "}"
   ]
  },
  {
   "cell_type": "code",
   "execution_count": 64,
   "id": "6f0d58d4-aa98-43df-b393-ad28f803376d",
   "metadata": {},
   "outputs": [
    {
     "name": "stdout",
     "output_type": "stream",
     "text": [
      "jetta\n"
     ]
    }
   ],
   "source": [
    "print(car.setdefault(\"model\", \"Passat\")"
   ]
  },
  {
   "cell_type": "code",
   "execution_count": 69,
   "id": "9818fe63-b670-4f23-a537-440fa211d2c4",
   "metadata": {},
   "outputs": [
    {
     "name": "stdout",
     "output_type": "stream",
     "text": [
      "2022\n"
     ]
    }
   ],
   "source": [
    "print(car.setdefault(\"year\", 2022))"
   ]
  },
  {
   "cell_type": "code",
   "execution_count": 71,
   "id": "6129d2a4-28e9-462c-b685-865424cb4de0",
   "metadata": {},
   "outputs": [
    {
     "name": "stdout",
     "output_type": "stream",
     "text": [
      "{'brand': 'Volkswagen', 'Style': 'Sedan', 'model': 'jetta', 'year': 2022}\n"
     ]
    }
   ],
   "source": [
    "print(car)"
   ]
  },
  {
   "cell_type": "markdown",
   "id": "6a06e0a8-013c-418b-b096-670513e4ce11",
   "metadata": {},
   "source": [
    "## Sets"
   ]
  },
  {
   "cell_type": "markdown",
   "id": "238f1dda-595b-4c7a-8081-c4633d424cdc",
   "metadata": {},
   "source": [
    "#### In Python, a \"set\" refers to an unordered collection of unique elements. Sets are one of Python's built-in data types, alongside lists, tuples, and dictionaries."
   ]
  },
  {
   "cell_type": "code",
   "execution_count": 76,
   "id": "3b5c424b-772c-40bf-9552-bf5b9e9b821e",
   "metadata": {},
   "outputs": [
    {
     "data": {
      "text/plain": [
       "{'London', 'New York', 'Paris'}"
      ]
     },
     "execution_count": 76,
     "metadata": {},
     "output_type": "execute_result"
    }
   ],
   "source": [
    "{'London', 'New York', 'Paris'}"
   ]
  },
  {
   "cell_type": "markdown",
   "id": "c1353ad2-c3a0-4c0c-8822-71bbd0b0f07a",
   "metadata": {},
   "source": [
    "### Removing Duplicates from sequences\n",
    "#### You simply convert the original list to a set and then back to list. The set constructor automatically deletes the duplicates. The updated list looks something like this:"
   ]
  },
  {
   "cell_type": "code",
   "execution_count": 87,
   "id": "2c83617c-efea-496c-9222-79ad7562e758",
   "metadata": {},
   "outputs": [
    {
     "name": "stdout",
     "output_type": "stream",
     "text": [
      "['Tim Jemison', 'John Silver', 'Maya Smith']\n"
     ]
    }
   ],
   "source": [
    "lst =  ['John Silver', 'Tim Jemison', 'John Silver', 'Maya Smith']\n",
    "lst = list(set(lst))\n",
    "print(lst)"
   ]
  },
  {
   "cell_type": "markdown",
   "id": "73c54481-6124-4115-ac65-bf205a640c36",
   "metadata": {},
   "source": [
    "### A drawback of this approach is that it does not preserve the inital order of elements. this is due to the fact a set is an unordered collection of items. indeed if you run the preceding code two or three times, the order of output might be different each time. To perform the same operation without losing the initial order, use Python's sorted( ) funtion, as shown here:"
   ]
  },
  {
   "cell_type": "code",
   "execution_count": 92,
   "id": "91b2662c-2c1c-4cdf-9b7e-901bc05e9a74",
   "metadata": {},
   "outputs": [],
   "source": [
    "lst =  ['John Silver', 'Tim Jemison', 'John Silver', 'Maya Smith']\n",
    "lst = list(sorted(set(lst), key=lst.index)) "
   ]
  },
  {
   "cell_type": "markdown",
   "id": "8404ede9-e3c2-411d-9c55-e88153a75a21",
   "metadata": {},
   "source": [
    "### This sorts the set by the indicies of the original list is as follows:"
   ]
  },
  {
   "cell_type": "code",
   "execution_count": 95,
   "id": "7a30fc6e-4ca0-4d9f-8541-7be39e3edbf0",
   "metadata": {},
   "outputs": [
    {
     "data": {
      "text/plain": [
       "['John Silver', 'Tim Jemison', 'Maya Smith']"
      ]
     },
     "execution_count": 95,
     "metadata": {},
     "output_type": "execute_result"
    }
   ],
   "source": [
    "lst"
   ]
  },
  {
   "cell_type": "markdown",
   "id": "99fa79a0-7710-4b11-8432-b20f02750eee",
   "metadata": {},
   "source": [
    "## Performing Set Operations\n",
    "#### Python sets let you combine or extract overlapping/different data very cleanly\n",
    "#### The intersection of two sets is a new set that contains only the elements present in both sets\n",
    "#### Intersection = “common elements\""
   ]
  },
  {
   "cell_type": "code",
   "execution_count": 104,
   "id": "7bd15114-e610-4164-9600-e679338fb3ca",
   "metadata": {},
   "outputs": [
    {
     "name": "stdout",
     "output_type": "stream",
     "text": [
      "The photos share similar items.\n"
     ]
    }
   ],
   "source": [
    "photo1_tags = {'coffe','brekfast','drink', 'table', 'tableware', 'cup', 'food'}\n",
    "photo2_tags = {'food', 'dish', 'meat', 'meal', 'tableware', 'dinner', 'vegetable'}\n",
    "intersection = photo1_tags.intersection(photo2_tags)\n",
    "if len(intersection) >= 2:\n",
    "    print(\"The photos share similar items.\")"
   ]
  },
  {
   "cell_type": "code",
   "execution_count": null,
   "id": "6691f9f1-9606-4b4d-909a-02a391d7894a",
   "metadata": {},
   "outputs": [],
   "source": []
  }
 ],
 "metadata": {
  "kernelspec": {
   "display_name": "Python (my-quant-stack)",
   "language": "python",
   "name": "my-quant-stack"
  },
  "language_info": {
   "codemirror_mode": {
    "name": "ipython",
    "version": 3
   },
   "file_extension": ".py",
   "mimetype": "text/x-python",
   "name": "python",
   "nbconvert_exporter": "python",
   "pygments_lexer": "ipython3",
   "version": "3.10.14"
  }
 },
 "nbformat": 4,
 "nbformat_minor": 5
}
