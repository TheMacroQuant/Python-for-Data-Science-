{
 "cells": [
  {
   "cell_type": "code",
   "execution_count": 6,
   "id": "0fabe71c-616d-48ee-8637-b9f76329365f",
   "metadata": {},
   "outputs": [],
   "source": [
    "import numpy as np"
   ]
  },
  {
   "cell_type": "code",
   "execution_count": 8,
   "id": "a6de7d9d-0c03-49c8-b429-ac5c94fa35b4",
   "metadata": {},
   "outputs": [],
   "source": [
    "jeff_salary = [2700,3000,3000]\n",
    "nick_salary = [2600,2800,2800]\n",
    "tom_salary = [2300,2500,2500]\n",
    "base_salary = np.array([jeff_salary, nick_salary, tom_salary])"
   ]
  },
  {
   "cell_type": "code",
   "execution_count": 10,
   "id": "cd8075a3-06cc-48bd-82bc-c7bcef09c195",
   "metadata": {},
   "outputs": [],
   "source": [
    "jeff_bonus = [500,400,400]\n",
    "nick_bonus = [600,300,400]\n",
    "tom_bonus = [200,500,400]\n",
    "bonus = np.array([jeff_bonus, nick_bonus, tom_bonus])"
   ]
  },
  {
   "cell_type": "code",
   "execution_count": 12,
   "id": "aa19569b-8abd-4f32-af95-722fdd978932",
   "metadata": {},
   "outputs": [
    {
     "name": "stdout",
     "output_type": "stream",
     "text": [
      "<class 'numpy.ndarray'>\n",
      "[[3200 3400 3400]\n",
      " [3200 3100 3200]\n",
      " [2500 3000 2900]]\n"
     ]
    }
   ],
   "source": [
    "salary_bonus = base_salary + bonus\n",
    "print(type(salary_bonus))\n",
    "print(salary_bonus)"
   ]
  },
  {
   "cell_type": "code",
   "execution_count": 14,
   "id": "73c1a776-f032-4fa9-9220-eaa899401f5d",
   "metadata": {},
   "outputs": [
    {
     "name": "stdout",
     "output_type": "stream",
     "text": [
      "[3200 3400 3400]\n"
     ]
    }
   ],
   "source": [
    "print(np.amax(salary_bonus, axis = 0))"
   ]
  },
  {
   "cell_type": "code",
   "execution_count": 22,
   "id": "222f213d-cc4c-4adf-b8bb-2004580bba53",
   "metadata": {},
   "outputs": [
    {
     "name": "stdout",
     "output_type": "stream",
     "text": [
      "3400\n"
     ]
    }
   ],
   "source": [
    "#Maximum Value in Dataset\n",
    "print(np.amax(np.amax(salary_bonus, axis = 0)))"
   ]
  },
  {
   "cell_type": "code",
   "execution_count": 20,
   "id": "f5d815d4-385d-452c-a52a-ef5033d7c93d",
   "metadata": {},
   "outputs": [
    {
     "name": "stdout",
     "output_type": "stream",
     "text": [
      "3333.3333333333335\n"
     ]
    }
   ],
   "source": [
    "#Median or Average Method\n",
    "print(np.average(np.amax(salary_bonus, axis = 0)))"
   ]
  },
  {
   "cell_type": "code",
   "execution_count": null,
   "id": "82f01771-a5ca-463e-8d6b-819963ab3efd",
   "metadata": {},
   "outputs": [],
   "source": []
  }
 ],
 "metadata": {
  "kernelspec": {
   "display_name": "Python (my-quant-stack)",
   "language": "python",
   "name": "my-quant-stack"
  },
  "language_info": {
   "codemirror_mode": {
    "name": "ipython",
    "version": 3
   },
   "file_extension": ".py",
   "mimetype": "text/x-python",
   "name": "python",
   "nbconvert_exporter": "python",
   "pygments_lexer": "ipython3",
   "version": "3.10.14"
  }
 },
 "nbformat": 4,
 "nbformat_minor": 5
}
