{
 "cells": [
  {
   "cell_type": "markdown",
   "id": "2787411a-7b9f-47de-bd09-d73890dc8c53",
   "metadata": {},
   "source": [
    "### EXERCISE #1: IMPROVED PHOTO TAG ANALYSIS"
   ]
  },
  {
   "cell_type": "code",
   "execution_count": 10,
   "id": "f60c9233-f247-4b99-a761-61541508fe13",
   "metadata": {},
   "outputs": [],
   "source": [
    "l = [\n",
    "    {\"name\": \"photo1.jpg\", \"tags\": {'coffee','breakfast','drink','table','tableware','cup','food'}},\n",
    "    {\"name\": \"photo2.jpg\", \"tags\": {'food','dish','meat','meal','tableware','dinner','vegetable'}},\n",
    "    {\"name\": \"photo3.jpg\", \"tags\": {'city','skyline','cityscape','skyscraper','architecture','building','travel'}},\n",
    "    {\"name\": \"photo4.jpg\", \"tags\": {'drink','juice','glass','meal','fruit','food','grapes'}}\n",
    "]\n"
   ]
  },
  {
   "cell_type": "code",
   "execution_count": 26,
   "id": "388d025d-97b0-4aac-8743-162cbca11769",
   "metadata": {},
   "outputs": [
    {
     "name": "stdout",
     "output_type": "stream",
     "text": [
      "{'food_tableware': ['photo1.jpg', 'photo2.jpg'], 'drink_food': ['photo1.jpg', 'photo4.jpg'], 'food_meal': ['photo2.jpg', 'photo4.jpg']}\n"
     ]
    }
   ],
   "source": [
    "photo_groups = {}\n",
    "\n",
    "for i in range(len(l) - 1):\n",
    "    for j in range(i + 1, len(l)):\n",
    "        common = l[i]['tags'] & l[j]['tags']\n",
    "        if common:\n",
    "            key = \"_\".join(sorted(common))\n",
    "            photo_groups.setdefault(key, set()).update({l[i]['name'], l[j]['name']})\n",
    "\n",
    "photo_groups = {k: sorted(v) for k, v in photo_groups.items()}\n",
    "print(photo_groups)\n"
   ]
  },
  {
   "cell_type": "code",
   "execution_count": null,
   "id": "36a0a3a3-5a6f-4d6d-9d2f-163bceeb90ce",
   "metadata": {},
   "outputs": [],
   "source": []
  }
 ],
 "metadata": {
  "kernelspec": {
   "display_name": "Python (my-quant-stack)",
   "language": "python",
   "name": "my-quant-stack"
  },
  "language_info": {
   "codemirror_mode": {
    "name": "ipython",
    "version": 3
   },
   "file_extension": ".py",
   "mimetype": "text/x-python",
   "name": "python",
   "nbconvert_exporter": "python",
   "pygments_lexer": "ipython3",
   "version": "3.10.14"
  }
 },
 "nbformat": 4,
 "nbformat_minor": 5
}
