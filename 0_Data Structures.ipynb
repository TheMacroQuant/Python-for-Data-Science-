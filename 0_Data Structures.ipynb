{
 "cells": [
  {
   "cell_type": "markdown",
   "id": "134d9c00-bb2d-4154-a116-fe08301207fb",
   "metadata": {},
   "source": [
    "## Python Data Structures"
   ]
  },
  {
   "cell_type": "markdown",
   "id": "0d20f81f-a716-49b8-89cb-aca51417a34b",
   "metadata": {},
   "source": [
    "#### Python List \n",
    "#### A list is an ordered, changeable (mutable) collection of items, meaning you can add, remove and modify a lists elements. enclosed in square brackets [ ] and separated by commas, used to store multiple values in a single variable."
   ]
  },
  {
   "cell_type": "code",
   "execution_count": 117,
   "id": "3a0e268d-e145-447c-8b4b-4155ba3bb403",
   "metadata": {},
   "outputs": [],
   "source": [
    "#List\n",
    "Reigions = [ 'Asia', 'America', 'Europe' ]"
   ]
  },
  {
   "cell_type": "markdown",
   "id": "e2d85cc2-e440-4f20-b325-d103ad9e0ce5",
   "metadata": {},
   "source": [
    "## List Object Methods"
   ]
  },
  {
   "cell_type": "markdown",
   "id": "aa4eeda2-87c4-4534-9710-b8cf36e01006",
   "metadata": {},
   "source": [
    "#### append( ) Adds an item to the end of the list"
   ]
  },
  {
   "cell_type": "code",
   "execution_count": 120,
   "id": "1336bcea-3afb-4e6f-8943-2949f51a1736",
   "metadata": {},
   "outputs": [],
   "source": [
    "Reigions.append('South America')\n",
    "Reigions.append('North America')\n",
    "Reigions.append('Africa')\n",
    "Reigions.append('Antartica')"
   ]
  },
  {
   "cell_type": "code",
   "execution_count": 121,
   "id": "6a2379b4-4981-4fd4-9c58-5ed39e2fee1c",
   "metadata": {},
   "outputs": [
    {
     "data": {
      "text/plain": [
       "['Asia',\n",
       " 'America',\n",
       " 'Europe',\n",
       " 'South America',\n",
       " 'North America',\n",
       " 'Africa',\n",
       " 'Antartica']"
      ]
     },
     "execution_count": 121,
     "metadata": {},
     "output_type": "execute_result"
    }
   ],
   "source": [
    "Reigions"
   ]
  },
  {
   "cell_type": "markdown",
   "id": "be190406-b719-437a-ab1e-61401add6edb",
   "metadata": {},
   "source": [
    "## indexing in Python"
   ]
  },
  {
   "cell_type": "markdown",
   "id": "ff65025f-b7fb-43bf-809d-a1d6112a0d72",
   "metadata": {},
   "source": [
    "### indexing refers to the process of accessing a specific item in a sequence, such as a string or list, using its position or index number."
   ]
  },
  {
   "cell_type": "code",
   "execution_count": 124,
   "id": "127a86c8-a6aa-4ecd-aa9d-0f47a0490a63",
   "metadata": {},
   "outputs": [
    {
     "name": "stdout",
     "output_type": "stream",
     "text": [
      "Asia\n"
     ]
    }
   ],
   "source": [
    "print(Reigions[0])"
   ]
  },
  {
   "cell_type": "code",
   "execution_count": 125,
   "id": "f6993fd0-91d0-4739-b3b5-041a8e81d311",
   "metadata": {},
   "outputs": [
    {
     "name": "stdout",
     "output_type": "stream",
     "text": [
      "South America\n"
     ]
    }
   ],
   "source": [
    "print(Reigions[3])"
   ]
  },
  {
   "cell_type": "markdown",
   "id": "a63b5d47-14f1-47b1-bce5-ba5fe17e766a",
   "metadata": {},
   "source": [
    "## Inserting in Python"
   ]
  },
  {
   "cell_type": "markdown",
   "id": "88c253ec-99e3-42b9-aa63-826cb44d7cdd",
   "metadata": {},
   "source": [
    "### While the list append( ) method adds items to the end of a list, the list insert( ) method adds items before a given index"
   ]
  },
  {
   "cell_type": "code",
   "execution_count": 128,
   "id": "ba5165ff-6222-4baf-9d4c-d9c939f4c297",
   "metadata": {},
   "outputs": [],
   "source": [
    " i = Reigions.index('Antartica')"
   ]
  },
  {
   "cell_type": "code",
   "execution_count": 129,
   "id": "cdb42fc9-0629-407b-a077-a2b343086933",
   "metadata": {},
   "outputs": [],
   "source": [
    "Reigions.insert(i, 'World')"
   ]
  },
  {
   "cell_type": "code",
   "execution_count": 130,
   "id": "ab1eeebc-7185-4eac-b417-32d9449c21bb",
   "metadata": {},
   "outputs": [
    {
     "data": {
      "text/plain": [
       "['Asia',\n",
       " 'America',\n",
       " 'Europe',\n",
       " 'South America',\n",
       " 'North America',\n",
       " 'Africa',\n",
       " 'World',\n",
       " 'Antartica']"
      ]
     },
     "execution_count": 130,
     "metadata": {},
     "output_type": "execute_result"
    }
   ],
   "source": [
    "Reigions"
   ]
  },
  {
   "cell_type": "markdown",
   "id": "b0680cf8-a3b1-4356-9375-80b2088ca5fc",
   "metadata": {},
   "source": [
    "## Slicing In Python"
   ]
  },
  {
   "cell_type": "markdown",
   "id": "a54da982-0ae3-4ea5-8e35-aa41c5bca1ee",
   "metadata": {},
   "source": [
    "### Python list slicing is fundamental concept that let us easily access specific items in a list"
   ]
  },
  {
   "cell_type": "code",
   "execution_count": 133,
   "id": "2f88dd31-f1b3-40af-bfef-082f1bc3500a",
   "metadata": {},
   "outputs": [
    {
     "name": "stdout",
     "output_type": "stream",
     "text": [
      "['Asia', 'America', 'Europe']\n"
     ]
    }
   ],
   "source": [
    "# Start to 2nd Index\n",
    "print(Reigions[0:3])"
   ]
  },
  {
   "cell_type": "code",
   "execution_count": 134,
   "id": "3f01ed5a-a8f4-4ba3-bb12-28f5919a0968",
   "metadata": {},
   "outputs": [
    {
     "name": "stdout",
     "output_type": "stream",
     "text": [
      "['Asia', 'America', 'Europe']\n"
     ]
    }
   ],
   "source": [
    "# Start to 2nd Index\n",
    "print(Reigions[:3])"
   ]
  },
  {
   "cell_type": "code",
   "execution_count": 135,
   "id": "d245f624-16b9-4566-84d6-4cf72a5f50bb",
   "metadata": {},
   "outputs": [
    {
     "name": "stdout",
     "output_type": "stream",
     "text": [
      "['South America', 'North America', 'Africa', 'World', 'Antartica']\n"
     ]
    }
   ],
   "source": [
    "# Slicing from 2nd Index to end of list\n",
    "print(Reigions[3:])"
   ]
  },
  {
   "cell_type": "code",
   "execution_count": 136,
   "id": "c8b45a55-76c6-4bdc-8b60-8cbf9486aea7",
   "metadata": {},
   "outputs": [
    {
     "name": "stdout",
     "output_type": "stream",
     "text": [
      "['Asia', 'America', 'Europe', 'South America', 'North America', 'Africa', 'World', 'Antartica']\n"
     ]
    }
   ],
   "source": [
    "# Copy of Entire List\n",
    "print(Reigions[:])"
   ]
  },
  {
   "cell_type": "code",
   "execution_count": 137,
   "id": "f5d5a9bb-824c-4f9c-a72d-727fc1f2ea98",
   "metadata": {},
   "outputs": [
    {
     "data": {
      "text/plain": [
       "8"
      ]
     },
     "execution_count": 137,
     "metadata": {},
     "output_type": "execute_result"
    }
   ],
   "source": [
    "# len() Returns the number of items in a list\n",
    "len(Reigions)"
   ]
  },
  {
   "cell_type": "code",
   "execution_count": 138,
   "id": "27853c28-8f84-48dc-bf72-e9ad85c2e3e5",
   "metadata": {},
   "outputs": [],
   "source": [
    "# Using Slice notation to Append() & Insert() into a data into a list\n",
    "Reigions[len(Reigions):] = ['Globe', 'Map']"
   ]
  },
  {
   "cell_type": "code",
   "execution_count": 139,
   "id": "339f8433-e131-4838-a5f9-638bddeaaf3c",
   "metadata": {},
   "outputs": [
    {
     "data": {
      "text/plain": [
       "10"
      ]
     },
     "execution_count": 139,
     "metadata": {},
     "output_type": "execute_result"
    }
   ],
   "source": [
    "len(Reigions)"
   ]
  },
  {
   "cell_type": "code",
   "execution_count": 157,
   "id": "c5e6fc0b-b878-48b0-b5a5-32b21266398b",
   "metadata": {},
   "outputs": [],
   "source": [
    "# del will remove items using the del command\n",
    "del Reigions[:5]"
   ]
  },
  {
   "cell_type": "code",
   "execution_count": 159,
   "id": "62ee5033-8f16-425b-8513-c45ab55d330a",
   "metadata": {},
   "outputs": [
    {
     "data": {
      "text/plain": [
       "['Africa', 'World', 'Antartica', 'Globe', 'Map']"
      ]
     },
     "execution_count": 159,
     "metadata": {},
     "output_type": "execute_result"
    }
   ],
   "source": [
    "Reigions"
   ]
  },
  {
   "cell_type": "markdown",
   "id": "a6fc5b0d-26ef-42c9-b7ba-46f4b7221700",
   "metadata": {},
   "source": [
    "#### This will remove the items with 5 indicies and above"
   ]
  },
  {
   "cell_type": "markdown",
   "id": "c5ce84cb-f764-4ce5-ae69-c17b06f3314b",
   "metadata": {},
   "source": [
    "#### Using Python as a Queue"
   ]
  },
  {
   "cell_type": "code",
   "execution_count": 164,
   "id": "18637e58-ab69-4bdf-9720-2b1bac0a7785",
   "metadata": {},
   "outputs": [],
   "source": [
    "# An Example of using a list as a queue"
   ]
  },
  {
   "cell_type": "code",
   "execution_count": 168,
   "id": "77e920f5-abc4-4f01-87a7-64fc321d17b4",
   "metadata": {},
   "outputs": [],
   "source": [
    "from collections import deque\n",
    "queue = deque(Reigions)"
   ]
  },
  {
   "cell_type": "code",
   "execution_count": 199,
   "id": "17645689-99ff-416a-813e-b38380d88ddb",
   "metadata": {},
   "outputs": [
    {
     "name": "stdout",
     "output_type": "stream",
     "text": [
      "Globe  - Done!\n"
     ]
    }
   ],
   "source": [
    "queue.append('World')\n",
    "print(queue.popleft(), ' - Done!')"
   ]
  },
  {
   "cell_type": "code",
   "execution_count": 209,
   "id": "94b1c6e6-10ca-496d-ae1e-f693f9c3f2f9",
   "metadata": {},
   "outputs": [
    {
     "name": "stdout",
     "output_type": "stream",
     "text": [
      "Antartica  - Done!\n",
      "World  - Done!\n",
      "Africa  - Done!\n",
      "North America  - Done!\n",
      "South America  - Done!\n",
      "Europe  - Done!\n",
      "America  - Done!\n",
      "Asia  - Done!\n",
      "\n",
      "The stack is empty\n"
     ]
    }
   ],
   "source": [
    "Reigions = ['Asia', 'America', 'Europe', 'South America', 'North America', 'Africa', 'World', 'Antartica']\n",
    "stack = []\n",
    "for Reigion in Reigions:\n",
    "    stack.append(Reigion)\n",
    "while stack: \n",
    "        print(stack.pop(), ' - Done!')\n",
    "print('\\nThe stack is empty')    "
   ]
  },
  {
   "cell_type": "code",
   "execution_count": null,
   "id": "29282a51-b3ca-47e6-8cf3-21896f69e60f",
   "metadata": {},
   "outputs": [],
   "source": []
  }
 ],
 "metadata": {
  "kernelspec": {
   "display_name": "Python (my-quant-stack)",
   "language": "python",
   "name": "my-quant-stack"
  },
  "language_info": {
   "codemirror_mode": {
    "name": "ipython",
    "version": 3
   },
   "file_extension": ".py",
   "mimetype": "text/x-python",
   "name": "python",
   "nbconvert_exporter": "python",
   "pygments_lexer": "ipython3",
   "version": "3.10.14"
  }
 },
 "nbformat": 4,
 "nbformat_minor": 5
}
